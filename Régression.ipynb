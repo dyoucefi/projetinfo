{
 "cells": [
  {
   "cell_type": "markdown",
   "metadata": {},
   "source": [
    "# 3. Régressions linéaires\n",
    "\n",
    "Maintenant que nous avons décrit les variables ainsi que leurs relations entre elles. Il est intéressant de faire une régression afin de fournir un début d'explication sur l'effet des variables socio-démographiques sur la dispersion des trotinettes. Nous allons ainsi faire une régression afin d'expliquer le nombre de trottinettes dans chaque quartiers admnistratifs de Paris. En ouverture, nous allons nous intérésser aussi à la relation entre le nombre de trottinettes et la distance aux moyens de transports."
   ]
  },
  {
   "cell_type": "markdown",
   "metadata": {},
   "source": [
    "## 3.1 Préparation des données\n",
    "\n",
    "Les base telles qu'elles sont ne permettent pas de pouvoir faire des régressions, notamment parce que des variables sont qualitatives. De plus, il faut pour pouvoir utiliser la distance aux moyens de transport créer différentes catégories en fonction de leurs distances."
   ]
  },
  {
   "cell_type": "code",
   "execution_count": 8,
   "metadata": {},
   "outputs": [],
   "source": [
    "path=\"/Users/dalilyoucefi/Documents/ProjetInfo/\""
   ]
  },
  {
   "cell_type": "code",
   "execution_count": 9,
   "metadata": {},
   "outputs": [],
   "source": [
    "import pandas as pd\n",
    "import plotly.express as px\n",
    "import plotly.graph_objects as go\n",
    "import statsmodels.api as sm\n",
    "import geopandas as gpd\n"
   ]
  },
  {
   "cell_type": "code",
   "execution_count": 10,
   "metadata": {},
   "outputs": [],
   "source": [
    "df = pd.read_csv(path+'BaseQuartierLuSa.csv')\n",
    "gdf = gpd.read_file(path+'GeoTierLunsSA.geojson')"
   ]
  },
  {
   "cell_type": "markdown",
   "metadata": {},
   "source": [
    "On regarde comment se répartit la distance aux moyens de transport"
   ]
  },
  {
   "cell_type": "code",
   "execution_count": 11,
   "metadata": {},
   "outputs": [
    {
     "data": {
      "text/plain": [
       "0.002546362541187594"
      ]
     },
     "execution_count": 11,
     "metadata": {},
     "output_type": "execute_result"
    }
   ],
   "source": [
    "gdf[\"min_distance\"].min()"
   ]
  },
  {
   "cell_type": "code",
   "execution_count": 12,
   "metadata": {},
   "outputs": [
    {
     "data": {
      "text/plain": [
       "0.20971384983506855"
      ]
     },
     "execution_count": 12,
     "metadata": {},
     "output_type": "execute_result"
    }
   ],
   "source": [
    "gdf[\"min_distance\"].quantile(0.5)"
   ]
  },
  {
   "cell_type": "code",
   "execution_count": 13,
   "metadata": {},
   "outputs": [
    {
     "data": {
      "text/plain": [
       "0        0.238695\n",
       "1        0.085875\n",
       "2        0.086848\n",
       "3        0.051079\n",
       "4        0.335544\n",
       "           ...   \n",
       "32067    0.194821\n",
       "32068    0.281159\n",
       "32069    0.281159\n",
       "32070    0.297171\n",
       "32071    0.297171\n",
       "Name: min_distance, Length: 32072, dtype: float64"
      ]
     },
     "execution_count": 13,
     "metadata": {},
     "output_type": "execute_result"
    }
   ],
   "source": [
    "gdf[\"min_distance\"]"
   ]
  },
  {
   "cell_type": "markdown",
   "metadata": {},
   "source": [
    "On crée plusieurs tranches de distance aux moyens de transport"
   ]
  },
  {
   "cell_type": "code",
   "execution_count": 14,
   "metadata": {},
   "outputs": [],
   "source": [
    "li=[]\n",
    "\n",
    "for i in range(len(gdf)):\n",
    "    if gdf[\"min_distance\"][i]<0.05:\n",
    "        li.append(\"0-50\")\n",
    "    if gdf[\"min_distance\"][i]>=0.05 and gdf[\"min_distance\"][i]<0.1:\n",
    "        li.append(\"50-100\")\n",
    "    if gdf[\"min_distance\"][i]>=0.1 and gdf[\"min_distance\"][i]<0.15:\n",
    "        li.append(\"100-150\")\n",
    "    if gdf[\"min_distance\"][i]>=0.15 and gdf[\"min_distance\"][i]<0.2:\n",
    "        li.append(\"150-200\")\n",
    "    if gdf[\"min_distance\"][i]>=0.2 and gdf[\"min_distance\"][i]<0.25:\n",
    "        li.append(\"200-250\")\n",
    "    if gdf[\"min_distance\"][i]>=0.25 and gdf[\"min_distance\"][i]<0.3:\n",
    "        li.append(\"250-300\")\n",
    "    if gdf[\"min_distance\"][i]>=0.3 and gdf[\"min_distance\"][i]<0.35:\n",
    "        li.append(\"300-350\")\n",
    "    if gdf[\"min_distance\"][i]>=0.35 and gdf[\"min_distance\"][i]<0.4:\n",
    "        li.append(\"350-400\")\n",
    "    if gdf[\"min_distance\"][i]>=0.4 and gdf[\"min_distance\"][i]<0.45:\n",
    "        li.append(\"400-450\")\n",
    "    if gdf[\"min_distance\"][i]>=0.45 and gdf[\"min_distance\"][i]<0.5:\n",
    "        li.append(\"450-500\")\n",
    "    if gdf[\"min_distance\"][i]>=0.5:\n",
    "        li.append(\"500+\")"
   ]
  },
  {
   "cell_type": "code",
   "execution_count": 15,
   "metadata": {},
   "outputs": [
    {
     "data": {
      "text/plain": [
       "0        200-250\n",
       "1         50-100\n",
       "2         50-100\n",
       "3         50-100\n",
       "4        300-350\n",
       "          ...   \n",
       "32067    150-200\n",
       "32068    250-300\n",
       "32069    250-300\n",
       "32070    250-300\n",
       "32071    250-300\n",
       "Name: dist_transport, Length: 32072, dtype: object"
      ]
     },
     "execution_count": 15,
     "metadata": {},
     "output_type": "execute_result"
    }
   ],
   "source": [
    "gdf[\"dist_transport\"]=li\n",
    "gdf['dist_transport']"
   ]
  },
  {
   "cell_type": "code",
   "execution_count": 16,
   "metadata": {},
   "outputs": [
    {
     "data": {
      "text/plain": [
       "0        0.238695\n",
       "1        0.085875\n",
       "2        0.086848\n",
       "3        0.051079\n",
       "4        0.335544\n",
       "           ...   \n",
       "32067    0.194821\n",
       "32068    0.281159\n",
       "32069    0.281159\n",
       "32070    0.297171\n",
       "32071    0.297171\n",
       "Name: min_distance, Length: 32072, dtype: float64"
      ]
     },
     "execution_count": 16,
     "metadata": {},
     "output_type": "execute_result"
    }
   ],
   "source": [
    "gdf.min_distance"
   ]
  },
  {
   "cell_type": "code",
   "execution_count": 17,
   "metadata": {},
   "outputs": [
    {
     "data": {
      "text/plain": [
       "0        200-250\n",
       "1         50-100\n",
       "2         50-100\n",
       "3         50-100\n",
       "4        300-350\n",
       "          ...   \n",
       "32067    150-200\n",
       "32068    250-300\n",
       "32069    250-300\n",
       "32070    250-300\n",
       "32071    250-300\n",
       "Name: dist_transport, Length: 32072, dtype: object"
      ]
     },
     "execution_count": 17,
     "metadata": {},
     "output_type": "execute_result"
    }
   ],
   "source": [
    "gdf.dist_transport"
   ]
  },
  {
   "cell_type": "markdown",
   "metadata": {},
   "source": [
    "On compte le nombre de trotinnette en fonction du quartier où elles se trouvent, du jour et de l'heure et de la distance au moyen de transport."
   ]
  },
  {
   "cell_type": "code",
   "execution_count": 18,
   "metadata": {},
   "outputs": [],
   "source": [
    "gdf2=gdf[[\"ID\",\"dist_transport\",\"id_quartier\",\"Heure\",\"Jour\"]].groupby([\"dist_transport\",\"id_quartier\",\"Heure\",\"Jour\"],as_index=False).count()\n"
   ]
  },
  {
   "cell_type": "code",
   "execution_count": 19,
   "metadata": {},
   "outputs": [
    {
     "data": {
      "text/html": [
       "<div>\n",
       "<style scoped>\n",
       "    .dataframe tbody tr th:only-of-type {\n",
       "        vertical-align: middle;\n",
       "    }\n",
       "\n",
       "    .dataframe tbody tr th {\n",
       "        vertical-align: top;\n",
       "    }\n",
       "\n",
       "    .dataframe thead th {\n",
       "        text-align: right;\n",
       "    }\n",
       "</style>\n",
       "<table border=\"1\" class=\"dataframe\">\n",
       "  <thead>\n",
       "    <tr style=\"text-align: right;\">\n",
       "      <th></th>\n",
       "      <th>dist_transport</th>\n",
       "      <th>id_quartier</th>\n",
       "      <th>Heure</th>\n",
       "      <th>Jour</th>\n",
       "      <th>ID</th>\n",
       "    </tr>\n",
       "  </thead>\n",
       "  <tbody>\n",
       "    <tr>\n",
       "      <th>0</th>\n",
       "      <td>0-50</td>\n",
       "      <td>1</td>\n",
       "      <td>14h</td>\n",
       "      <td>Lundi</td>\n",
       "      <td>3</td>\n",
       "    </tr>\n",
       "    <tr>\n",
       "      <th>1</th>\n",
       "      <td>0-50</td>\n",
       "      <td>1</td>\n",
       "      <td>19h</td>\n",
       "      <td>Lundi</td>\n",
       "      <td>1</td>\n",
       "    </tr>\n",
       "    <tr>\n",
       "      <th>2</th>\n",
       "      <td>0-50</td>\n",
       "      <td>1</td>\n",
       "      <td>19h</td>\n",
       "      <td>Samedi</td>\n",
       "      <td>1</td>\n",
       "    </tr>\n",
       "    <tr>\n",
       "      <th>3</th>\n",
       "      <td>0-50</td>\n",
       "      <td>1</td>\n",
       "      <td>9h</td>\n",
       "      <td>Lundi</td>\n",
       "      <td>3</td>\n",
       "    </tr>\n",
       "    <tr>\n",
       "      <th>4</th>\n",
       "      <td>0-50</td>\n",
       "      <td>1</td>\n",
       "      <td>9h</td>\n",
       "      <td>Samedi</td>\n",
       "      <td>1</td>\n",
       "    </tr>\n",
       "    <tr>\n",
       "      <th>...</th>\n",
       "      <td>...</td>\n",
       "      <td>...</td>\n",
       "      <td>...</td>\n",
       "      <td>...</td>\n",
       "      <td>...</td>\n",
       "    </tr>\n",
       "    <tr>\n",
       "      <th>4876</th>\n",
       "      <td>500+</td>\n",
       "      <td>79</td>\n",
       "      <td>18h</td>\n",
       "      <td>Samedi</td>\n",
       "      <td>2</td>\n",
       "    </tr>\n",
       "    <tr>\n",
       "      <th>4877</th>\n",
       "      <td>500+</td>\n",
       "      <td>79</td>\n",
       "      <td>19h</td>\n",
       "      <td>Lundi</td>\n",
       "      <td>2</td>\n",
       "    </tr>\n",
       "    <tr>\n",
       "      <th>4878</th>\n",
       "      <td>500+</td>\n",
       "      <td>79</td>\n",
       "      <td>19h</td>\n",
       "      <td>Samedi</td>\n",
       "      <td>2</td>\n",
       "    </tr>\n",
       "    <tr>\n",
       "      <th>4879</th>\n",
       "      <td>500+</td>\n",
       "      <td>79</td>\n",
       "      <td>9h</td>\n",
       "      <td>Lundi</td>\n",
       "      <td>3</td>\n",
       "    </tr>\n",
       "    <tr>\n",
       "      <th>4880</th>\n",
       "      <td>500+</td>\n",
       "      <td>79</td>\n",
       "      <td>9h</td>\n",
       "      <td>Samedi</td>\n",
       "      <td>2</td>\n",
       "    </tr>\n",
       "  </tbody>\n",
       "</table>\n",
       "<p>4881 rows × 5 columns</p>\n",
       "</div>"
      ],
      "text/plain": [
       "     dist_transport id_quartier Heure    Jour  ID\n",
       "0              0-50           1   14h   Lundi   3\n",
       "1              0-50           1   19h   Lundi   1\n",
       "2              0-50           1   19h  Samedi   1\n",
       "3              0-50           1    9h   Lundi   3\n",
       "4              0-50           1    9h  Samedi   1\n",
       "...             ...         ...   ...     ...  ..\n",
       "4876           500+          79   18h  Samedi   2\n",
       "4877           500+          79   19h   Lundi   2\n",
       "4878           500+          79   19h  Samedi   2\n",
       "4879           500+          79    9h   Lundi   3\n",
       "4880           500+          79    9h  Samedi   2\n",
       "\n",
       "[4881 rows x 5 columns]"
      ]
     },
     "execution_count": 19,
     "metadata": {},
     "output_type": "execute_result"
    }
   ],
   "source": [
    "gdf2"
   ]
  },
  {
   "cell_type": "code",
   "execution_count": 20,
   "metadata": {},
   "outputs": [
    {
     "data": {
      "text/plain": [
       "Index(['Unnamed: 0', 'Jour', 'c_qu', 'l_qu', 'prop_0-14', 'prop_15-29',\n",
       "       'prop_30-44', 'prop_45-59', 'prop_60-74', 'prop_75+', 'nombre_0-14',\n",
       "       'nombre_15-29', 'nombre_30-44', 'nombre_45-59', 'nombre_60-74',\n",
       "       'nombre_75+', 'pop', 'densite', 'nombretransport', 'numquartier', 'ref',\n",
       "       'nb_logmt_total', 'nombre_de_commerce', 'nombreent', 'CA 1',\n",
       "       'nombretrottotal'],\n",
       "      dtype='object')"
      ]
     },
     "execution_count": 20,
     "metadata": {},
     "output_type": "execute_result"
    }
   ],
   "source": [
    "df.columns"
   ]
  },
  {
   "cell_type": "markdown",
   "metadata": {},
   "source": [
    "On garde "
   ]
  },
  {
   "cell_type": "code",
   "execution_count": 21,
   "metadata": {},
   "outputs": [],
   "source": [
    " for i in range(len(df)):\n",
    "   \n",
    "    if df[\"Jour\"][i]==\"Lundi\":\n",
    "        df[\"Jour\"]=0\n",
    "    else:\n",
    "        df[\"Jour\"]=1\n"
   ]
  },
  {
   "cell_type": "code",
   "execution_count": 22,
   "metadata": {},
   "outputs": [],
   "source": [
    "df[\"numquartier\"]=df[\"numquartier\"].astype(str)\n"
   ]
  },
  {
   "cell_type": "code",
   "execution_count": 23,
   "metadata": {},
   "outputs": [],
   "source": [
    "df2=df[[ \"numquartier\", \n",
    "        'nombre_0-14',\n",
    "       'nombre_15-29', 'nombre_30-44', 'nombre_45-59', 'nombre_60-74', 'nombre_75+',\n",
    "       'nombretransport', 'ref', 'nb_logmt_total',\n",
    "       'nombre_de_commerce', 'nombreent', 'CA 1',\"densite\"]]"
   ]
  },
  {
   "cell_type": "code",
   "execution_count": 24,
   "metadata": {},
   "outputs": [],
   "source": [
    "gdf2=gdf2.merge(df2, left_on=\"id_quartier\",right_on=\"numquartier\")"
   ]
  },
  {
   "cell_type": "code",
   "execution_count": 25,
   "metadata": {},
   "outputs": [
    {
     "name": "stderr",
     "output_type": "stream",
     "text": [
      "/Users/dalilyoucefi/opt/anaconda3/lib/python3.7/site-packages/ipykernel_launcher.py:2: SettingWithCopyWarning: \n",
      "A value is trying to be set on a copy of a slice from a DataFrame\n",
      "\n",
      "See the caveats in the documentation: https://pandas.pydata.org/pandas-docs/stable/user_guide/indexing.html#returning-a-view-versus-a-copy\n",
      "  \n"
     ]
    }
   ],
   "source": [
    "for i in range (len(gdf2)): \n",
    "    gdf2[\"Heure\"][i]=gdf2[\"Heure\"][i].replace('h','')\n",
    "for i in range(len(df)):\n",
    "   \n",
    "    if gdf2[\"Jour\"][i]==\"Lundi\":\n",
    "        gdf2[\"Jour\"]=0\n",
    "    else:\n",
    "        gdf2[\"Jour\"]=1\n",
    "gdf2[\"Heure\"]=gdf2[\"Heure\"].astype(int)\n",
    "       "
   ]
  },
  {
   "cell_type": "code",
   "execution_count": 26,
   "metadata": {},
   "outputs": [],
   "source": [
    "gdf2['dist_transport'] = gdf2['dist_transport'].astype('category')\n",
    "gdf2['dist_transport'] = gdf2['dist_transport'].cat.reorder_categories(['0-50', '100-150', '150-200', '200-250', '250-300', '300-350',\n",
    "       '350-400', '400-450', '450-500', '50-100', '500+'], ordered=True)\n",
    "gdf2['dist_transport'] = gdf2['dist_transport'].cat.codes\n"
   ]
  },
  {
   "cell_type": "markdown",
   "metadata": {},
   "source": [
    "## 3.2 Régressions"
   ]
  },
  {
   "cell_type": "markdown",
   "metadata": {},
   "source": [
    "*nombretrottotal* est la variable expliquée"
   ]
  },
  {
   "cell_type": "code",
   "execution_count": 27,
   "metadata": {},
   "outputs": [],
   "source": [
    "Y=pd.DataFrame(df[\"nombretrottotal\"])"
   ]
  },
  {
   "cell_type": "markdown",
   "metadata": {},
   "source": [
    "#### 3.2.1 Premier bloc de la régression"
   ]
  },
  {
   "cell_type": "code",
   "execution_count": 28,
   "metadata": {},
   "outputs": [
    {
     "name": "stdout",
     "output_type": "stream",
     "text": [
      "const                 9.228215e+01\n",
      "nombreent             6.173551e-02\n",
      "nombre_de_commerce    2.515857e+00\n",
      "CA 1                 -1.215042e-07\n",
      "dtype: float64\n",
      "0.1585283705229773\n"
     ]
    }
   ],
   "source": [
    "# On effectue une régression de nombretrottotal sur le premier bloc\n",
    "X1=df[['nombreent','nombre_de_commerce','CA 1']]\n",
    "X1 = sm.add_constant(X1)\n",
    "model = sm.OLS(Y,X1)\n",
    "results1 = model.fit()\n",
    "print(results1.params)\n",
    "print(results1.rsquared_adj)"
   ]
  },
  {
   "cell_type": "code",
   "execution_count": 29,
   "metadata": {
    "scrolled": true
   },
   "outputs": [
    {
     "name": "stdout",
     "output_type": "stream",
     "text": [
      "const                 90.851258\n",
      "nombreent              0.061427\n",
      "nombre_de_commerce     2.531771\n",
      "dtype: float64\n",
      "0.16351680925475154\n"
     ]
    }
   ],
   "source": [
    "# Faisons la même chose sur le premier bloc retiré de CA 1\n",
    "X2=df[['nombreent','nombre_de_commerce']]\n",
    "X2 = sm.add_constant(X2)\n",
    "model = sm.OLS(Y,X2)\n",
    "results2 = model.fit()\n",
    "print(results2.params)\n",
    "print(results2.rsquared_adj)"
   ]
  },
  {
   "cell_type": "markdown",
   "metadata": {},
   "source": [
    "On observe que le R² ajusté est plus élevé lorsque le premier bloc n'est pas composé de la variable *CA 1*. Comme montré dans la partie 2, la variable *CA 1* est corrélée avec *nombreent*. Donc inclure *CA 1* crée un biais de variable incluse. On va donc la retirer de notre modèle."
   ]
  },
  {
   "cell_type": "markdown",
   "metadata": {},
   "source": [
    "#### 3.2.2 Deuxième bloc de la régression"
   ]
  },
  {
   "cell_type": "code",
   "execution_count": 30,
   "metadata": {},
   "outputs": [
    {
     "name": "stdout",
     "output_type": "stream",
     "text": [
      "const            -501.095355\n",
      "ref                24.559239\n",
      "nb_logmt_total      0.051139\n",
      "dtype: float64\n",
      "0.18107687824331753\n"
     ]
    }
   ],
   "source": [
    "X3=df[['ref','nb_logmt_total']]\n",
    "X3=sm.add_constant(X3)\n",
    "model = sm.OLS(Y,X3)\n",
    "results3 = model.fit()\n",
    "print(results3.params)\n",
    "print(results3.rsquared_adj)"
   ]
  },
  {
   "cell_type": "code",
   "execution_count": 31,
   "metadata": {},
   "outputs": [
    {
     "name": "stdout",
     "output_type": "stream",
     "text": [
      "const    165.662455\n",
      "ref        1.352168\n",
      "dtype: float64\n",
      "-0.005689631036355669\n"
     ]
    }
   ],
   "source": [
    "X4=df[['ref']]\n",
    "X4=sm.add_constant(X4)\n",
    "model = sm.OLS(Y,X4)\n",
    "results4 = model.fit()\n",
    "print(results4.params)\n",
    "print(results4.rsquared_adj)"
   ]
  },
  {
   "cell_type": "code",
   "execution_count": 32,
   "metadata": {},
   "outputs": [
    {
     "name": "stdout",
     "output_type": "stream",
     "text": [
      "const             167.281242\n",
      "nb_logmt_total      0.024335\n",
      "dtype: float64\n",
      "0.07978743528225618\n"
     ]
    }
   ],
   "source": [
    "X5=df[['nb_logmt_total']]\n",
    "X5=sm.add_constant(X5)\n",
    "model = sm.OLS(Y,X5)\n",
    "results5 = model.fit()\n",
    "print(results5.params)\n",
    "print(results5.rsquared_adj)"
   ]
  },
  {
   "cell_type": "markdown",
   "metadata": {},
   "source": [
    "On avait montré dans la partie 2 que la variable *ref* n'était pas une variable omise si on la retirait du modèle. Or ici les R² ajusté montre que la variable *nb_logmt_total* explique le mieux la variation de la variable *nombretrottotal*. On va donc uniquement conserver dans notre 2ème bloc la variable *nb_logmt_total* "
   ]
  },
  {
   "cell_type": "markdown",
   "metadata": {},
   "source": [
    "#### 3.2.3 Troisième bloc de la régression"
   ]
  },
  {
   "cell_type": "code",
   "execution_count": 33,
   "metadata": {},
   "outputs": [
    {
     "name": "stdout",
     "output_type": "stream",
     "text": [
      "const              129.494232\n",
      "nombretransport     13.387881\n",
      "dtype: float64\n",
      "0.10657271658678136\n"
     ]
    }
   ],
   "source": [
    "X6=df[['nombretransport']]\n",
    "X6=sm.add_constant(X6)\n",
    "model = sm.OLS(Y,X6)\n",
    "results6 = model.fit()\n",
    "print(results6.params)\n",
    "print(results6.rsquared_adj)\n"
   ]
  },
  {
   "cell_type": "markdown",
   "metadata": {},
   "source": [
    "La variable *nombredetransport* explique 10% de la variation de la variable *nombretrottotal*. On va donc conserver cette variable."
   ]
  },
  {
   "cell_type": "markdown",
   "metadata": {},
   "source": [
    "#### 3.2.4 Quatrième bloc de la régression"
   ]
  },
  {
   "cell_type": "code",
   "execution_count": 34,
   "metadata": {},
   "outputs": [
    {
     "name": "stdout",
     "output_type": "stream",
     "text": [
      "const         154.837498\n",
      "densite        -0.000325\n",
      "nombre_75+      0.006798\n",
      "dtype: float64\n",
      "0.11619499699394564\n"
     ]
    }
   ],
   "source": [
    "X7 = df[['densite','nombre_75+']]\n",
    "X7=sm.add_constant(X7)\n",
    "model = sm.OLS(Y,X7)\n",
    "results7 = model.fit()\n",
    "print(results7.params)\n",
    "print(results7.rsquared_adj)"
   ]
  },
  {
   "cell_type": "markdown",
   "metadata": {},
   "source": [
    "Le R² ajusté est de 11.6%. On va donc conserver ce bloc"
   ]
  },
  {
   "cell_type": "markdown",
   "metadata": {},
   "source": [
    "#### 3.2.5 Régression générale"
   ]
  },
  {
   "cell_type": "code",
   "execution_count": 35,
   "metadata": {},
   "outputs": [
    {
     "name": "stdout",
     "output_type": "stream",
     "text": [
      "const                 70.470308\n",
      "nombreent              0.049561\n",
      "nombre_de_commerce     2.061789\n",
      "nb_logmt_total         0.007408\n",
      "nombretransport        6.531985\n",
      "densite               -0.000468\n",
      "nombre_75+             0.001638\n",
      "dtype: float64\n",
      "0.26407576498580276\n"
     ]
    }
   ],
   "source": [
    "X8=df[['nombreent','nombre_de_commerce','nb_logmt_total','nombretransport','densite','nombre_75+']]\n",
    "X8=sm.add_constant(X8)\n",
    "model = sm.OLS(Y,X8)\n",
    "results8 = model.fit()\n",
    "print(results8.params)\n",
    "print(results8.rsquared_adj)"
   ]
  },
  {
   "cell_type": "markdown",
   "metadata": {},
   "source": [
    "On en conclut que toutes choses égales par ailleurs, en moyenne *nombre_de_commerce* augmente le nombre de trottinettes dans un quartier administratif de 2,06. De même toutes choses égales par ailleurs, en moyenne *nombretransport* augmente le nombre de trottinettes par quartier administratif de 6,5. Les autres variables ont très peu d'influence sur la variation du nombre de trottinettes."
   ]
  },
  {
   "cell_type": "markdown",
   "metadata": {},
   "source": [
    "#### 3.2.6 Test de significativité statistique"
   ]
  },
  {
   "cell_type": "markdown",
   "metadata": {},
   "source": [
    "Pour les tests suivants on va considérer les hypothèses suivantes:\\\n",
    "*H0* = Toutes les variables n'ont pas d'effet causal sur *nombretrottotal* \\\n",
    "*H1* = Au moins une variable a un effet causal sur *nombretrottotal* \\\n",
    "On va donc effectuer un test de Fisher pour chaque bloc de notre régression précédente"
   ]
  },
  {
   "cell_type": "code",
   "execution_count": 36,
   "metadata": {},
   "outputs": [
    {
     "name": "stdout",
     "output_type": "stream",
     "text": [
      "[[10.68426104]]\n",
      "4.535089215436615e-05\n"
     ]
    }
   ],
   "source": [
    "#Test de Fisher sur le bloc *nombreent* et *nombre_de_commerce*\n",
    "R1 = [[0,1,0,0,0,0,0],[0,0,1,0,0,0,0]] # matrice R \n",
    "fres1 = results8.f_test(R1)\n",
    "dir(fres1)\n",
    "print(fres1.fvalue) #valeur du F de Fisher\n",
    "print(fres1.pvalue) #valeur de la p-value"
   ]
  },
  {
   "cell_type": "markdown",
   "metadata": {},
   "source": [
    "On obtient une *p-value* très faible. Ainsi on peut rejeter l'hypothèse que le bloc 1 n'a pas déffet causal au seuil de 1%. Ainsi au moins une des deux variables du bloc est statistiquement significative au seuil de 1%."
   ]
  },
  {
   "cell_type": "code",
   "execution_count": 37,
   "metadata": {},
   "outputs": [
    {
     "name": "stdout",
     "output_type": "stream",
     "text": [
      "[[0.99180115]]\n",
      "0.3208749856617584\n"
     ]
    }
   ],
   "source": [
    "# Test de Fisher / t-test sur la variable nb_logmt_total\n",
    "R2 = [0,0,0,1,0,0,0]\n",
    "fres2= results8.f_test(R2)\n",
    "dir(fres2)\n",
    "print(fres2.fvalue) #valeur du t de Student\n",
    "print(fres2.pvalue) #valeur de la p-value"
   ]
  },
  {
   "cell_type": "markdown",
   "metadata": {},
   "source": [
    "On obtient une valeur de *t-Student* très faible. Ainsi on ne peut rejeter l'hypothèse nulle au seuil de 10%. La variable *nb_logmt_total* n'est pas statistiquement significative au seuil de 10%. "
   ]
  },
  {
   "cell_type": "code",
   "execution_count": 38,
   "metadata": {},
   "outputs": [
    {
     "name": "stdout",
     "output_type": "stream",
     "text": [
      "[[3.64138203]]\n",
      "0.058233032147806674\n"
     ]
    }
   ],
   "source": [
    "# Test de Fisher / t-test sur la variable nombretransport\n",
    "R3 = [0,0,0,0,1,0,0]\n",
    "fres3 = results8.f_test(R3)\n",
    "dir(fres3)\n",
    "print(fres3.fvalue) #valeur du t de Student\n",
    "print(fres3.pvalue) #valeur de la p-value"
   ]
  },
  {
   "cell_type": "markdown",
   "metadata": {},
   "source": [
    "On trouve une p-value de 0.58 donc la variable est significative au seuil 10% mais pas au seuil 5% ni de 1%."
   ]
  },
  {
   "cell_type": "code",
   "execution_count": 39,
   "metadata": {},
   "outputs": [
    {
     "name": "stdout",
     "output_type": "stream",
     "text": [
      "[[6.54590836]]\n",
      "0.0018717784557674441\n"
     ]
    }
   ],
   "source": [
    "# Test de Fisher sur les variables densite et nombre_75+\n",
    "R4 = [[0,0,0,0,0,1,0],[0,0,0,0,0,0,1]]\n",
    "fres4 = results8.f_test(R4)\n",
    "dir(fres4)\n",
    "print(fres4.fvalue)\n",
    "print(fres4.pvalue)"
   ]
  },
  {
   "cell_type": "markdown",
   "metadata": {},
   "source": [
    "Le bloc des deux variables a une *p-value* inférieure à 0.01. Ainsi on peut rejeter l'hypothèse *H0* que le bloc n'a pas d'effet causal au seuil de 1%. Ainsi ce bloc est statistiquement significatif au seuil de 1%."
   ]
  },
  {
   "cell_type": "code",
   "execution_count": 40,
   "metadata": {},
   "outputs": [
    {
     "name": "stdout",
     "output_type": "stream",
     "text": [
      "[[10.50914162]]\n",
      "9.4485449543018e-10\n"
     ]
    }
   ],
   "source": [
    "# Test de Fisher sur la régression générale\n",
    "R5 = [[0,1,0,0,0,0,0],[0,0,1,0,0,0,0],[0,0,0,1,0,0,0],[0,0,0,0,1,0,0],[0,0,0,0,0,1,0],[0,0,0,0,0,0,1]]\n",
    "fres5 = results8.f_test(R5)\n",
    "dir(fres5)\n",
    "print(fres5.fvalue)\n",
    "print(fres5.pvalue)"
   ]
  },
  {
   "cell_type": "markdown",
   "metadata": {},
   "source": [
    "On obtient une *p-value* très faible. Ainsi on en conclut qu'au moins un des blocs définis auparavant a un effet causal sur *nombrtrottotal*. "
   ]
  },
  {
   "cell_type": "markdown",
   "metadata": {},
   "source": [
    "#### 3.2.7 Ouverture\n",
    "\n",
    "Il est intéressant aussi de voir comment la distance à un moyen de transport joue dans le positionnement des trotinnettes. Grâce à la variable *dist_transport* que nous avons crée nous allons pouvoir évaluercet effet grâce à une régression à l'aide la base *gdf2*."
   ]
  },
  {
   "cell_type": "code",
   "execution_count": 41,
   "metadata": {},
   "outputs": [],
   "source": [
    "Y = gdf2['ID'] # Variable expliquée\n",
    "X = gdf2[['nombreent','nombre_de_commerce','nb_logmt_total','dist_transport','densite','nombre_75+',\"nombretransport\"]] #variables explicatives"
   ]
  },
  {
   "cell_type": "code",
   "execution_count": 42,
   "metadata": {},
   "outputs": [
    {
     "name": "stdout",
     "output_type": "stream",
     "text": [
      "const                 5.481753\n",
      "nombreent             0.000696\n",
      "nombre_de_commerce    0.052991\n",
      "nb_logmt_total        0.000058\n",
      "dist_transport       -0.294692\n",
      "densite              -0.000015\n",
      "nombre_75+           -0.000056\n",
      "nombretransport       0.225116\n",
      "dtype: float64\n",
      "0.11127538325974495\n"
     ]
    }
   ],
   "source": [
    "X=sm.add_constant(X)\n",
    "model = sm.OLS(Y,X)\n",
    "results = model.fit()\n",
    "print(results.params)\n",
    "print(results.rsquared_adj)"
   ]
  },
  {
   "cell_type": "markdown",
   "metadata": {},
   "source": [
    "On trouve ici un R² ajusté de 11% environ, ce qui est beaucoup plus faible que dans les régressions précédentes, aussi parce que le l'échantillon de données est significativement plus grand. On remarque aussi, que seul les variables liés aux transports ont une significativité pratique. Cela peut s'expliquer par le fait qu'on ne travaille plus à un niveau agrégé.\\\n",
    "Testons la significativité de *dist_transport* et *nombretransport* qui sont les variables qui semblent avoir ici le plus d'importance sur la position des trotinettes."
   ]
  },
  {
   "cell_type": "code",
   "execution_count": 43,
   "metadata": {},
   "outputs": [
    {
     "data": {
      "text/plain": [
       "const                 5.044975e-246\n",
       "nombreent              2.002487e-08\n",
       "nombre_de_commerce     2.965012e-61\n",
       "nb_logmt_total         1.380282e-01\n",
       "dist_transport         2.164150e-58\n",
       "densite                3.956640e-69\n",
       "nombre_75+             1.396606e-06\n",
       "nombretransport        2.948213e-31\n",
       "dtype: float64"
      ]
     },
     "execution_count": 43,
     "metadata": {},
     "output_type": "execute_result"
    }
   ],
   "source": [
    "results.pvalues # p-values des coefficients"
   ]
  },
  {
   "cell_type": "markdown",
   "metadata": {},
   "source": [
    "On trouve pour tous les deux des p-value quasi-nulles  donc ces coefficients sont significatifs."
   ]
  },
  {
   "cell_type": "markdown",
   "metadata": {},
   "source": [
    "## Conclusion"
   ]
  },
  {
   "cell_type": "markdown",
   "metadata": {},
   "source": [
    "Notre analyse nous conduit à conclure  que le nombre de trottinettes présentes dans les quartiers de Paris dépend surtout de la variable *nombretransport*. On remarque aussi que les trotinettes semblent être plus réparties proche des moyens de transports. Cela nous laisse penser que les trottinettes en libre-service se présentent comme une véritable alternative aux moyens de transports. Toutefois, le manque de  certaines données plus précises (à l'échelle de l'arrondissement pour les données démographiques) et le faible échantillon (80 quartiers admnistratifs) limite l'interprétation notamment de la significativité statistiques des coefficients. Pour étendre l'analyse, on pourrait étendre l'étude à d'autres villes pour voir si les mêmes tendances se dégagent."
   ]
  }
 ],
 "metadata": {
  "kernelspec": {
   "display_name": "Python 3",
   "language": "python",
   "name": "python3"
  },
  "language_info": {
   "codemirror_mode": {
    "name": "ipython",
    "version": 3
   },
   "file_extension": ".py",
   "mimetype": "text/x-python",
   "name": "python",
   "nbconvert_exporter": "python",
   "pygments_lexer": "ipython3",
   "version": "3.7.6"
  }
 },
 "nbformat": 4,
 "nbformat_minor": 4
}
