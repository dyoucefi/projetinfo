{
 "cells": [
  {
   "cell_type": "markdown",
   "metadata": {},
   "source": [
    "# 3. Régressions linéaires\n",
    "\n",
    "Maintenant que nous avons décrit les variables ainsi que leurs relations entre elles. Il est intéressant de faire une régression afin de fournir un début d'explication sur l'effet des variables socio-démographiques sur la position des trotinettes. Nous allons ainsi faire deux régressions, une sur l'ensemble des trotinettes en fonction des données des quartiers et de leur distance à un moyen de transport. Et autre à un niveau agrégé pour expliquer le nombre de trotinette dans un quartier en fonction de ses spécificités"
   ]
  },
  {
   "cell_type": "markdown",
   "metadata": {},
   "source": [
    "## 3.1 Préparation des données\n",
    "\n",
    "Les base telles qu'elles sont ne permettent pas de pouvoir faire des régressions, notamment parce que des variables sont qualitatives. De plus, il faut pour pouvoir utiliser la distance aux moyens de transport créer différentes catégories en fonction de leurs distances."
   ]
  },
  {
   "cell_type": "code",
   "execution_count": 103,
   "metadata": {},
   "outputs": [],
   "source": [
    "path=\"/Users/dalilyoucefi/Documents/ProjetInfo/\""
   ]
  },
  {
   "cell_type": "code",
   "execution_count": 104,
   "metadata": {},
   "outputs": [],
   "source": [
    "import pandas as pd\n",
    "import plotly.express as px\n",
    "from scipy.stats import pearsonr\n",
    "import plotly.graph_objects as go\n",
    "from scipy.stats import chi2_contingency as chi2_contingency\n",
    "from scipy.stats import pearsonr\n",
    "import geopandas as gpd"
   ]
  },
  {
   "cell_type": "code",
   "execution_count": 105,
   "metadata": {},
   "outputs": [],
   "source": [
    "df = pd.read_csv(path+'BaseQuartierLuSa.csv')\n",
    "gdf = gpd.read_file(path+'GeoTierLunsSA.geojson')\n",
    "\n"
   ]
  },
  {
   "cell_type": "markdown",
   "metadata": {},
   "source": [
    "On regarde comment se répartit la distance aux moyens de transport"
   ]
  },
  {
   "cell_type": "code",
   "execution_count": 106,
   "metadata": {},
   "outputs": [
    {
     "data": {
      "text/plain": [
       "0.002546362541187594"
      ]
     },
     "execution_count": 106,
     "metadata": {},
     "output_type": "execute_result"
    }
   ],
   "source": [
    "gdf[\"min_distance\"].min()"
   ]
  },
  {
   "cell_type": "code",
   "execution_count": 107,
   "metadata": {},
   "outputs": [
    {
     "data": {
      "text/plain": [
       "0.20971384983506855"
      ]
     },
     "execution_count": 107,
     "metadata": {},
     "output_type": "execute_result"
    }
   ],
   "source": [
    "gdf[\"min_distance\"].quantile(0.5)"
   ]
  },
  {
   "cell_type": "code",
   "execution_count": 108,
   "metadata": {},
   "outputs": [
    {
     "data": {
      "text/plain": [
       "0        0.238695\n",
       "1        0.085875\n",
       "2        0.086848\n",
       "3        0.051079\n",
       "4        0.335544\n",
       "           ...   \n",
       "32067    0.194821\n",
       "32068    0.281159\n",
       "32069    0.281159\n",
       "32070    0.297171\n",
       "32071    0.297171\n",
       "Name: min_distance, Length: 32072, dtype: float64"
      ]
     },
     "execution_count": 108,
     "metadata": {},
     "output_type": "execute_result"
    }
   ],
   "source": [
    "gdf[\"min_distance\"]"
   ]
  },
  {
   "cell_type": "markdown",
   "metadata": {},
   "source": [
    "On crée plusieurs tranches de distance aux moyens de transport"
   ]
  },
  {
   "cell_type": "code",
   "execution_count": 109,
   "metadata": {},
   "outputs": [],
   "source": [
    "li=[]\n",
    "\n",
    "for i in range(len(gdf)):\n",
    "    if gdf[\"min_distance\"][i]<0.05:\n",
    "        li.append(\"0-50\")\n",
    "    if gdf[\"min_distance\"][i]>=0.05 and gdf[\"min_distance\"][i]<0.1:\n",
    "        li.append(\"50-100\")\n",
    "    if gdf[\"min_distance\"][i]>=0.1 and gdf[\"min_distance\"][i]<0.15:\n",
    "        li.append(\"100-150\")\n",
    "    if gdf[\"min_distance\"][i]>=0.15 and gdf[\"min_distance\"][i]<0.2:\n",
    "        li.append(\"150-200\")\n",
    "    if gdf[\"min_distance\"][i]>=0.2 and gdf[\"min_distance\"][i]<0.25:\n",
    "        li.append(\"200-250\")\n",
    "    if gdf[\"min_distance\"][i]>=0.25 and gdf[\"min_distance\"][i]<0.3:\n",
    "        li.append(\"250-300\")\n",
    "    if gdf[\"min_distance\"][i]>=0.3 and gdf[\"min_distance\"][i]<0.35:\n",
    "        li.append(\"300-350\")\n",
    "    if gdf[\"min_distance\"][i]>=0.35 and gdf[\"min_distance\"][i]<0.4:\n",
    "        li.append(\"350-400\")\n",
    "    if gdf[\"min_distance\"][i]>=0.4 and gdf[\"min_distance\"][i]<0.45:\n",
    "        li.append(\"400-450\")\n",
    "    if gdf[\"min_distance\"][i]>=0.45 and gdf[\"min_distance\"][i]<0.5:\n",
    "        li.append(\"450-500\")\n",
    "    if gdf[\"min_distance\"][i]>=0.5:\n",
    "        li.append(\"500+\")"
   ]
  },
  {
   "cell_type": "code",
   "execution_count": 110,
   "metadata": {},
   "outputs": [],
   "source": [
    "gdf[\"dist_transport\"]=li"
   ]
  },
  {
   "cell_type": "code",
   "execution_count": 111,
   "metadata": {},
   "outputs": [
    {
     "data": {
      "text/plain": [
       "0        0.238695\n",
       "1        0.085875\n",
       "2        0.086848\n",
       "3        0.051079\n",
       "4        0.335544\n",
       "           ...   \n",
       "32067    0.194821\n",
       "32068    0.281159\n",
       "32069    0.281159\n",
       "32070    0.297171\n",
       "32071    0.297171\n",
       "Name: min_distance, Length: 32072, dtype: float64"
      ]
     },
     "execution_count": 111,
     "metadata": {},
     "output_type": "execute_result"
    }
   ],
   "source": [
    "gdf.min_distance"
   ]
  },
  {
   "cell_type": "code",
   "execution_count": 112,
   "metadata": {},
   "outputs": [
    {
     "data": {
      "text/plain": [
       "0        200-250\n",
       "1         50-100\n",
       "2         50-100\n",
       "3         50-100\n",
       "4        300-350\n",
       "          ...   \n",
       "32067    150-200\n",
       "32068    250-300\n",
       "32069    250-300\n",
       "32070    250-300\n",
       "32071    250-300\n",
       "Name: dist_transport, Length: 32072, dtype: object"
      ]
     },
     "execution_count": 112,
     "metadata": {},
     "output_type": "execute_result"
    }
   ],
   "source": [
    "gdf.dist_transport"
   ]
  },
  {
   "cell_type": "markdown",
   "metadata": {},
   "source": [
    "On compte le nombre de trotinnette en fonction du quartier où elles se trouvent, du jour et de l'heure et de la distance au moyen de transport."
   ]
  },
  {
   "cell_type": "code",
   "execution_count": 113,
   "metadata": {},
   "outputs": [],
   "source": [
    "gdf2=gdf[[\"ID\",\"dist_transport\",\"id_quartier\",\"Heure\",\"Jour\"]].groupby([\"dist_transport\",\"id_quartier\",\"Heure\",\"Jour\"],as_index=False).count()\n"
   ]
  },
  {
   "cell_type": "code",
   "execution_count": 114,
   "metadata": {},
   "outputs": [
    {
     "data": {
      "text/html": [
       "<div>\n",
       "<style scoped>\n",
       "    .dataframe tbody tr th:only-of-type {\n",
       "        vertical-align: middle;\n",
       "    }\n",
       "\n",
       "    .dataframe tbody tr th {\n",
       "        vertical-align: top;\n",
       "    }\n",
       "\n",
       "    .dataframe thead th {\n",
       "        text-align: right;\n",
       "    }\n",
       "</style>\n",
       "<table border=\"1\" class=\"dataframe\">\n",
       "  <thead>\n",
       "    <tr style=\"text-align: right;\">\n",
       "      <th></th>\n",
       "      <th>dist_transport</th>\n",
       "      <th>id_quartier</th>\n",
       "      <th>Heure</th>\n",
       "      <th>Jour</th>\n",
       "      <th>ID</th>\n",
       "    </tr>\n",
       "  </thead>\n",
       "  <tbody>\n",
       "    <tr>\n",
       "      <th>0</th>\n",
       "      <td>0-50</td>\n",
       "      <td>1</td>\n",
       "      <td>14h</td>\n",
       "      <td>Lundi</td>\n",
       "      <td>3</td>\n",
       "    </tr>\n",
       "    <tr>\n",
       "      <th>1</th>\n",
       "      <td>0-50</td>\n",
       "      <td>1</td>\n",
       "      <td>19h</td>\n",
       "      <td>Lundi</td>\n",
       "      <td>1</td>\n",
       "    </tr>\n",
       "    <tr>\n",
       "      <th>2</th>\n",
       "      <td>0-50</td>\n",
       "      <td>1</td>\n",
       "      <td>19h</td>\n",
       "      <td>Samedi</td>\n",
       "      <td>1</td>\n",
       "    </tr>\n",
       "    <tr>\n",
       "      <th>3</th>\n",
       "      <td>0-50</td>\n",
       "      <td>1</td>\n",
       "      <td>9h</td>\n",
       "      <td>Lundi</td>\n",
       "      <td>3</td>\n",
       "    </tr>\n",
       "    <tr>\n",
       "      <th>4</th>\n",
       "      <td>0-50</td>\n",
       "      <td>1</td>\n",
       "      <td>9h</td>\n",
       "      <td>Samedi</td>\n",
       "      <td>1</td>\n",
       "    </tr>\n",
       "    <tr>\n",
       "      <th>...</th>\n",
       "      <td>...</td>\n",
       "      <td>...</td>\n",
       "      <td>...</td>\n",
       "      <td>...</td>\n",
       "      <td>...</td>\n",
       "    </tr>\n",
       "    <tr>\n",
       "      <th>4876</th>\n",
       "      <td>500+</td>\n",
       "      <td>79</td>\n",
       "      <td>18h</td>\n",
       "      <td>Samedi</td>\n",
       "      <td>2</td>\n",
       "    </tr>\n",
       "    <tr>\n",
       "      <th>4877</th>\n",
       "      <td>500+</td>\n",
       "      <td>79</td>\n",
       "      <td>19h</td>\n",
       "      <td>Lundi</td>\n",
       "      <td>2</td>\n",
       "    </tr>\n",
       "    <tr>\n",
       "      <th>4878</th>\n",
       "      <td>500+</td>\n",
       "      <td>79</td>\n",
       "      <td>19h</td>\n",
       "      <td>Samedi</td>\n",
       "      <td>2</td>\n",
       "    </tr>\n",
       "    <tr>\n",
       "      <th>4879</th>\n",
       "      <td>500+</td>\n",
       "      <td>79</td>\n",
       "      <td>9h</td>\n",
       "      <td>Lundi</td>\n",
       "      <td>3</td>\n",
       "    </tr>\n",
       "    <tr>\n",
       "      <th>4880</th>\n",
       "      <td>500+</td>\n",
       "      <td>79</td>\n",
       "      <td>9h</td>\n",
       "      <td>Samedi</td>\n",
       "      <td>2</td>\n",
       "    </tr>\n",
       "  </tbody>\n",
       "</table>\n",
       "<p>4881 rows × 5 columns</p>\n",
       "</div>"
      ],
      "text/plain": [
       "     dist_transport id_quartier Heure    Jour  ID\n",
       "0              0-50           1   14h   Lundi   3\n",
       "1              0-50           1   19h   Lundi   1\n",
       "2              0-50           1   19h  Samedi   1\n",
       "3              0-50           1    9h   Lundi   3\n",
       "4              0-50           1    9h  Samedi   1\n",
       "...             ...         ...   ...     ...  ..\n",
       "4876           500+          79   18h  Samedi   2\n",
       "4877           500+          79   19h   Lundi   2\n",
       "4878           500+          79   19h  Samedi   2\n",
       "4879           500+          79    9h   Lundi   3\n",
       "4880           500+          79    9h  Samedi   2\n",
       "\n",
       "[4881 rows x 5 columns]"
      ]
     },
     "execution_count": 114,
     "metadata": {},
     "output_type": "execute_result"
    }
   ],
   "source": [
    "gdf2"
   ]
  },
  {
   "cell_type": "code",
   "execution_count": 115,
   "metadata": {},
   "outputs": [
    {
     "data": {
      "text/plain": [
       "Index(['Unnamed: 0', 'Jour', 'c_qu', 'l_qu', 'prop_0-14', 'prop_15-29',\n",
       "       'prop_30-44', 'prop_45-59', 'prop_60-74', 'prop_75+', 'nombre_0-14',\n",
       "       'nombre_15-29', 'nombre_30-44', 'nombre_45-59', 'nombre_60-74',\n",
       "       'nombre_75+', 'pop', 'densite', 'nombretransport', 'numquartier', 'ref',\n",
       "       'nb_logmt_total', 'nombre_de_commerce', 'nombreent', 'CA 1',\n",
       "       'nombretrottotal'],\n",
       "      dtype='object')"
      ]
     },
     "execution_count": 115,
     "metadata": {},
     "output_type": "execute_result"
    }
   ],
   "source": [
    "df.columns"
   ]
  },
  {
   "cell_type": "code",
   "execution_count": null,
   "metadata": {},
   "outputs": [],
   "source": []
  },
  {
   "cell_type": "markdown",
   "metadata": {},
   "source": [
    "On garde "
   ]
  },
  {
   "cell_type": "code",
   "execution_count": 116,
   "metadata": {},
   "outputs": [],
   "source": [
    " for i in range(len(df)):\n",
    "   \n",
    "    if df[\"Jour\"][i]==\"Lundi\":\n",
    "        df[\"Jour\"]=0\n",
    "    else:\n",
    "        df[\"Jour\"]=1\n"
   ]
  },
  {
   "cell_type": "code",
   "execution_count": 117,
   "metadata": {},
   "outputs": [],
   "source": [
    "df[\"numquartier\"]=df[\"numquartier\"].astype(str)\n"
   ]
  },
  {
   "cell_type": "code",
   "execution_count": 118,
   "metadata": {},
   "outputs": [],
   "source": [
    "df2=df[[ \"numquartier\", \n",
    "        'nombre_0-14',\n",
    "       'nombre_15-29', 'nombre_30-44', 'nombre_45-59', 'nombre_60-74', 'nombre_75+',\n",
    "       'nombretransport', 'ref', 'nb_logmt_total',\n",
    "       'nombre_de_commerce', 'nombreent', 'CA 1']]"
   ]
  },
  {
   "cell_type": "code",
   "execution_count": 119,
   "metadata": {},
   "outputs": [],
   "source": [
    "gdf2=gdf2.merge(df2, left_on=\"id_quartier\",right_on=\"numquartier\")"
   ]
  },
  {
   "cell_type": "code",
   "execution_count": 120,
   "metadata": {},
   "outputs": [
    {
     "name": "stderr",
     "output_type": "stream",
     "text": [
      "/Users/dalilyoucefi/opt/anaconda3/lib/python3.7/site-packages/ipykernel_launcher.py:2: SettingWithCopyWarning: \n",
      "A value is trying to be set on a copy of a slice from a DataFrame\n",
      "\n",
      "See the caveats in the documentation: https://pandas.pydata.org/pandas-docs/stable/user_guide/indexing.html#returning-a-view-versus-a-copy\n",
      "  \n"
     ]
    }
   ],
   "source": [
    "for i in range (len(gdf2)): \n",
    "    gdf2[\"Heure\"][i]=gdf2[\"Heure\"][i].replace('h','')\n",
    "for i in range(len(df)):\n",
    "   \n",
    "    if gdf2[\"Jour\"][i]==\"Lundi\":\n",
    "        gdf2[\"Jour\"]=0\n",
    "    else:\n",
    "        gdf2[\"Jour\"]=1\n",
    "gdf2[\"Heure\"]=gdf2[\"Heure\"].astype(int)\n",
    "       "
   ]
  },
  {
   "cell_type": "code",
   "execution_count": 121,
   "metadata": {},
   "outputs": [],
   "source": [
    "gdf2['dist_transport'] = gdf2['dist_transport'].astype('category')\n",
    "gdf2['dist_transport'] = gdf2['dist_transport'].cat.reorder_categories(['0-50', '100-150', '150-200', '200-250', '250-300', '300-350',\n",
    "       '350-400', '400-450', '450-500', '50-100', '500+'], ordered=True)\n",
    "gdf2['dist_transport'] = gdf2['dist_transport'].cat.codes"
   ]
  },
  {
   "cell_type": "markdown",
   "metadata": {},
   "source": [
    "## 3.2 Régressions"
   ]
  },
  {
   "cell_type": "code",
   "execution_count": 144,
   "metadata": {},
   "outputs": [],
   "source": [
    "Y = pd.DataFrame(gdf2[\"ID\"])\n",
    "X= gdf2[['dist_transport', 'Heure', 'Jour', 'nombre_0-14',\n",
    "       'nombre_15-29', 'nombre_30-44', 'nombre_45-59', 'nombre_60-74', 'nombre_75+',\n",
    "       'nombretransport', 'ref', 'nb_logmt_total', 'nombre_de_commerce',\n",
    "       'nombreent', 'CA 1']]"
   ]
  },
  {
   "cell_type": "code",
   "execution_count": 145,
   "metadata": {},
   "outputs": [],
   "source": [
    "from sklearn import linear_model\n",
    "from sklearn.model_selection import train_test_split\n",
    "\n",
    "\n",
    "X_train, X_test, Y_train, Y_test = train_test_split(X, Y, test_size = .20, random_state = 40)\n",
    "\n",
    "regr = linear_model.LinearRegression() # Do not use fit_intercept = False if you have removed 1 column after dummy encoding\n",
    "regr.fit(X_train, Y_train)\n",
    "predicted = regr.predict(X_test)\n"
   ]
  },
  {
   "cell_type": "code",
   "execution_count": 146,
   "metadata": {},
   "outputs": [
    {
     "data": {
      "text/plain": [
       "array([[-3.24954429e-01,  9.39893870e-03, -3.45804928e-15,\n",
       "        -5.56591975e-04, -1.02085248e-04,  2.37936918e-05,\n",
       "         9.91541932e-05,  2.54234317e-04,  3.80934256e-04,\n",
       "         2.22023017e-01, -2.61025699e-02,  4.90611721e-04,\n",
       "         4.44996240e-02,  8.99204283e-04, -1.35206401e-08]])"
      ]
     },
     "execution_count": 146,
     "metadata": {},
     "output_type": "execute_result"
    }
   ],
   "source": [
    "regr.coef_"
   ]
  },
  {
   "cell_type": "code",
   "execution_count": 147,
   "metadata": {},
   "outputs": [
    {
     "data": {
      "image/png": "[encoded data removed]",
      "text/plain": [
       "<Figure size 432x288 with 1 Axes>"
      ]
     },
     "metadata": {
      "needs_background": "light"
     },
     "output_type": "display_data"
    }
   ],
   "source": [
    "import matplotlib.pyplot as plt\n",
    "plt.figure()\n",
    "plt.scatter([i for i in range(len(regr.coef_[0]))],regr.coef_[0])\n",
    "plt.show()"
   ]
  },
  {
   "cell_type": "code",
   "execution_count": 152,
   "metadata": {},
   "outputs": [],
   "source": [
    "Y=pd.DataFrame(df[\"nombretrottotal\"])\n",
    "X=df[[ \"Jour\",'nombre_60-74', 'nombre_75+', 'nombretransport', 'ref', 'nombre_de_commerce', 'nombreent', 'CA 1']]"
   ]
  },
  {
   "cell_type": "code",
   "execution_count": 153,
   "metadata": {},
   "outputs": [],
   "source": [
    "regr = linear_model.LinearRegression() \n",
    "regr.fit(X_train, Y_train)\n",
    "predicted = regr.predict(X_test)"
   ]
  },
  {
   "cell_type": "code",
   "execution_count": 154,
   "metadata": {},
   "outputs": [
    {
     "data": {
      "text/plain": [
       "array([[ 0.00000000e+00, -1.50288490e-02, -4.11723454e-03,\n",
       "        -1.02792991e-04, -6.53573874e-03,  2.19532224e-02,\n",
       "         1.43336143e-02,  8.26434701e+00, -9.42142900e+00,\n",
       "         2.01655477e+00,  6.42758615e-02, -6.05739813e-07]])"
      ]
     },
     "execution_count": 154,
     "metadata": {},
     "output_type": "execute_result"
    }
   ],
   "source": [
    "regr.coef_"
   ]
  },
  {
   "cell_type": "code",
   "execution_count": 155,
   "metadata": {},
   "outputs": [
    {
     "data": {
      "image/png": "[encoded data removed]",
      "text/plain": [
       "<Figure size 432x288 with 1 Axes>"
      ]
     },
     "metadata": {
      "needs_background": "light"
     },
     "output_type": "display_data"
    }
   ],
   "source": [
    "import matplotlib.pyplot as plt\n",
    "plt.figure()\n",
    "plt.scatter([i for i in range(len(regr.coef_[0]))],regr.coef_[0])\n",
    "plt.show()"
   ]
  },
  {
   "cell_type": "code",
   "execution_count": 159,
   "metadata": {},
   "outputs": [
    {
     "name": "stdout",
     "output_type": "stream",
     "text": [
      "Requirement already satisfied: statsmodels in /Users/dalilyoucefi/opt/anaconda3/lib/python3.7/site-packages (0.11.0)\r\n",
      "Requirement already satisfied: scipy>=1.0 in /Users/dalilyoucefi/opt/anaconda3/lib/python3.7/site-packages (from statsmodels) (1.4.1)\r\n",
      "Requirement already satisfied: numpy>=1.14 in /Users/dalilyoucefi/opt/anaconda3/lib/python3.7/site-packages (from statsmodels) (1.18.1)\r\n",
      "Requirement already satisfied: patsy>=0.5 in /Users/dalilyoucefi/opt/anaconda3/lib/python3.7/site-packages (from statsmodels) (0.5.1)\r\n",
      "Requirement already satisfied: pandas>=0.21 in /Users/dalilyoucefi/opt/anaconda3/lib/python3.7/site-packages (from statsmodels) (1.0.1)\r\n",
      "Requirement already satisfied: six in /Users/dalilyoucefi/opt/anaconda3/lib/python3.7/site-packages (from patsy>=0.5->statsmodels) (1.14.0)\r\n",
      "Requirement already satisfied: pytz>=2017.2 in /Users/dalilyoucefi/opt/anaconda3/lib/python3.7/site-packages (from pandas>=0.21->statsmodels) (2019.3)\r\n",
      "Requirement already satisfied: python-dateutil>=2.6.1 in /Users/dalilyoucefi/opt/anaconda3/lib/python3.7/site-packages (from pandas>=0.21->statsmodels) (2.8.1)\r\n"
     ]
    }
   ],
   "source": [
    "!pip install statsmodels"
   ]
  },
  {
   "cell_type": "code",
   "execution_count": null,
   "metadata": {},
   "outputs": [],
   "source": []
  },
  {
   "cell_type": "code",
   "execution_count": 160,
   "metadata": {},
   "outputs": [
    {
     "data": {
      "text/plain": [
       "Jour                  3.611485e+02\n",
       "nombre_0-14          -1.542486e-02\n",
       "nombre_15-29         -4.984078e-03\n",
       "nombre_30-44          1.263024e-03\n",
       "nombre_45-59         -8.415262e-03\n",
       "nombre_60-74          2.254610e-02\n",
       "nombre_75+            1.545379e-02\n",
       "nombretransport       9.209974e+00\n",
       "ref                  -1.053811e+01\n",
       "nombre_de_commerce    2.005148e+00\n",
       "nombreent             5.161326e-02\n",
       "CA 1                 -6.755690e-07\n",
       "dtype: float64"
      ]
     },
     "execution_count": 160,
     "metadata": {},
     "output_type": "execute_result"
    }
   ],
   "source": [
    "import statsmodels.api as sm\n",
    "model = sm.OLS(Y,X)\n",
    "results = model.fit()\n",
    "results.params"
   ]
  },
  {
   "cell_type": "code",
   "execution_count": 162,
   "metadata": {},
   "outputs": [
    {
     "data": {
      "text/plain": [
       "Jour                  1.891716\n",
       "nombre_0-14          -1.668507\n",
       "nombre_15-29         -0.648207\n",
       "nombre_30-44          0.154275\n",
       "nombre_45-59         -0.362618\n",
       "nombre_60-74          0.949526\n",
       "nombre_75+            1.646941\n",
       "nombretransport       3.008788\n",
       "ref                  -1.597176\n",
       "nombre_de_commerce    3.360935\n",
       "nombreent             2.362939\n",
       "CA 1                 -1.656450\n",
       "dtype: float64"
      ]
     },
     "execution_count": 162,
     "metadata": {},
     "output_type": "execute_result"
    }
   ],
   "source": [
    "results.tvalues"
   ]
  },
  {
   "cell_type": "code",
   "execution_count": 163,
   "metadata": {},
   "outputs": [
    {
     "ename": "ValueError",
     "evalue": "wrong shape for coefs",
     "output_type": "error",
     "traceback": [
      "\u001b[0;31m---------------------------------------------------------------------------\u001b[0m",
      "\u001b[0;31mValueError\u001b[0m                                Traceback (most recent call last)",
      "\u001b[0;32m<ipython-input-163-1b9580257697>\u001b[0m in \u001b[0;36m<module>\u001b[0;34m\u001b[0m\n\u001b[0;32m----> 1\u001b[0;31m \u001b[0mprint\u001b[0m\u001b[0;34m(\u001b[0m\u001b[0mresults\u001b[0m\u001b[0;34m.\u001b[0m\u001b[0mt_test\u001b[0m\u001b[0;34m(\u001b[0m\u001b[0;34m[\u001b[0m\u001b[0;36m1\u001b[0m\u001b[0;34m,\u001b[0m \u001b[0;36m0\u001b[0m\u001b[0;34m]\u001b[0m\u001b[0;34m)\u001b[0m\u001b[0;34m)\u001b[0m\u001b[0;34m\u001b[0m\u001b[0;34m\u001b[0m\u001b[0m\n\u001b[0m",
      "\u001b[0;32m~/opt/anaconda3/lib/python3.7/site-packages/statsmodels/base/model.py\u001b[0m in \u001b[0;36mt_test\u001b[0;34m(self, r_matrix, cov_p, scale, use_t)\u001b[0m\n\u001b[1;32m   1569\u001b[0m         \u001b[0;32mfrom\u001b[0m \u001b[0mpatsy\u001b[0m \u001b[0;32mimport\u001b[0m \u001b[0mDesignInfo\u001b[0m\u001b[0;34m\u001b[0m\u001b[0;34m\u001b[0m\u001b[0m\n\u001b[1;32m   1570\u001b[0m         \u001b[0mnames\u001b[0m \u001b[0;34m=\u001b[0m \u001b[0mself\u001b[0m\u001b[0;34m.\u001b[0m\u001b[0mmodel\u001b[0m\u001b[0;34m.\u001b[0m\u001b[0mdata\u001b[0m\u001b[0;34m.\u001b[0m\u001b[0mcov_names\u001b[0m\u001b[0;34m\u001b[0m\u001b[0;34m\u001b[0m\u001b[0m\n\u001b[0;32m-> 1571\u001b[0;31m         \u001b[0mLC\u001b[0m \u001b[0;34m=\u001b[0m \u001b[0mDesignInfo\u001b[0m\u001b[0;34m(\u001b[0m\u001b[0mnames\u001b[0m\u001b[0;34m)\u001b[0m\u001b[0;34m.\u001b[0m\u001b[0mlinear_constraint\u001b[0m\u001b[0;34m(\u001b[0m\u001b[0mr_matrix\u001b[0m\u001b[0;34m)\u001b[0m\u001b[0;34m\u001b[0m\u001b[0;34m\u001b[0m\u001b[0m\n\u001b[0m\u001b[1;32m   1572\u001b[0m         \u001b[0mr_matrix\u001b[0m\u001b[0;34m,\u001b[0m \u001b[0mq_matrix\u001b[0m \u001b[0;34m=\u001b[0m \u001b[0mLC\u001b[0m\u001b[0;34m.\u001b[0m\u001b[0mcoefs\u001b[0m\u001b[0;34m,\u001b[0m \u001b[0mLC\u001b[0m\u001b[0;34m.\u001b[0m\u001b[0mconstants\u001b[0m\u001b[0;34m\u001b[0m\u001b[0;34m\u001b[0m\u001b[0m\n\u001b[1;32m   1573\u001b[0m         \u001b[0mnum_ttests\u001b[0m \u001b[0;34m=\u001b[0m \u001b[0mr_matrix\u001b[0m\u001b[0;34m.\u001b[0m\u001b[0mshape\u001b[0m\u001b[0;34m[\u001b[0m\u001b[0;36m0\u001b[0m\u001b[0;34m]\u001b[0m\u001b[0;34m\u001b[0m\u001b[0;34m\u001b[0m\u001b[0m\n",
      "\u001b[0;32m~/opt/anaconda3/lib/python3.7/site-packages/patsy/design_info.py\u001b[0m in \u001b[0;36mlinear_constraint\u001b[0;34m(self, constraint_likes)\u001b[0m\n\u001b[1;32m    534\u001b[0m           \u001b[0mdi\u001b[0m\u001b[0;34m.\u001b[0m\u001b[0mlinear_constraint\u001b[0m\u001b[0;34m(\u001b[0m\u001b[0;34m\"x1 = x2 = 3\"\u001b[0m\u001b[0;34m)\u001b[0m\u001b[0;34m\u001b[0m\u001b[0;34m\u001b[0m\u001b[0m\n\u001b[1;32m    535\u001b[0m         \"\"\"\n\u001b[0;32m--> 536\u001b[0;31m         \u001b[0;32mreturn\u001b[0m \u001b[0mlinear_constraint\u001b[0m\u001b[0;34m(\u001b[0m\u001b[0mconstraint_likes\u001b[0m\u001b[0;34m,\u001b[0m \u001b[0mself\u001b[0m\u001b[0;34m.\u001b[0m\u001b[0mcolumn_names\u001b[0m\u001b[0;34m)\u001b[0m\u001b[0;34m\u001b[0m\u001b[0;34m\u001b[0m\u001b[0m\n\u001b[0m\u001b[1;32m    537\u001b[0m \u001b[0;34m\u001b[0m\u001b[0m\n\u001b[1;32m    538\u001b[0m     \u001b[0;32mdef\u001b[0m \u001b[0mdescribe\u001b[0m\u001b[0;34m(\u001b[0m\u001b[0mself\u001b[0m\u001b[0;34m)\u001b[0m\u001b[0;34m:\u001b[0m\u001b[0;34m\u001b[0m\u001b[0;34m\u001b[0m\u001b[0m\n",
      "\u001b[0;32m~/opt/anaconda3/lib/python3.7/site-packages/patsy/constraint.py\u001b[0m in \u001b[0;36mlinear_constraint\u001b[0;34m(constraint_like, variable_names)\u001b[0m\n\u001b[1;32m    414\u001b[0m     \u001b[0;31m# assume a raw ndarray\u001b[0m\u001b[0;34m\u001b[0m\u001b[0;34m\u001b[0m\u001b[0;34m\u001b[0m\u001b[0m\n\u001b[1;32m    415\u001b[0m     \u001b[0mcoefs\u001b[0m \u001b[0;34m=\u001b[0m \u001b[0mnp\u001b[0m\u001b[0;34m.\u001b[0m\u001b[0masarray\u001b[0m\u001b[0;34m(\u001b[0m\u001b[0mconstraint_like\u001b[0m\u001b[0;34m,\u001b[0m \u001b[0mdtype\u001b[0m\u001b[0;34m=\u001b[0m\u001b[0mfloat\u001b[0m\u001b[0;34m)\u001b[0m\u001b[0;34m\u001b[0m\u001b[0;34m\u001b[0m\u001b[0m\n\u001b[0;32m--> 416\u001b[0;31m     \u001b[0;32mreturn\u001b[0m \u001b[0mLinearConstraint\u001b[0m\u001b[0;34m(\u001b[0m\u001b[0mvariable_names\u001b[0m\u001b[0;34m,\u001b[0m \u001b[0mcoefs\u001b[0m\u001b[0;34m)\u001b[0m\u001b[0;34m\u001b[0m\u001b[0;34m\u001b[0m\u001b[0m\n\u001b[0m\u001b[1;32m    417\u001b[0m \u001b[0;34m\u001b[0m\u001b[0m\n\u001b[1;32m    418\u001b[0m \u001b[0;34m\u001b[0m\u001b[0m\n",
      "\u001b[0;32m~/opt/anaconda3/lib/python3.7/site-packages/patsy/constraint.py\u001b[0m in \u001b[0;36m__init__\u001b[0;34m(self, variable_names, coefs, constants)\u001b[0m\n\u001b[1;32m     55\u001b[0m             \u001b[0;32mraise\u001b[0m \u001b[0mValueError\u001b[0m\u001b[0;34m(\u001b[0m\u001b[0;34m\"constants is not (convertible to) a column matrix\"\u001b[0m\u001b[0;34m)\u001b[0m\u001b[0;34m\u001b[0m\u001b[0;34m\u001b[0m\u001b[0m\n\u001b[1;32m     56\u001b[0m         \u001b[0;32mif\u001b[0m \u001b[0mself\u001b[0m\u001b[0;34m.\u001b[0m\u001b[0mcoefs\u001b[0m\u001b[0;34m.\u001b[0m\u001b[0mndim\u001b[0m \u001b[0;34m!=\u001b[0m \u001b[0;36m2\u001b[0m \u001b[0;32mor\u001b[0m \u001b[0mself\u001b[0m\u001b[0;34m.\u001b[0m\u001b[0mcoefs\u001b[0m\u001b[0;34m.\u001b[0m\u001b[0mshape\u001b[0m\u001b[0;34m[\u001b[0m\u001b[0;36m1\u001b[0m\u001b[0;34m]\u001b[0m \u001b[0;34m!=\u001b[0m \u001b[0mlen\u001b[0m\u001b[0;34m(\u001b[0m\u001b[0mvariable_names\u001b[0m\u001b[0;34m)\u001b[0m\u001b[0;34m:\u001b[0m\u001b[0;34m\u001b[0m\u001b[0;34m\u001b[0m\u001b[0m\n\u001b[0;32m---> 57\u001b[0;31m             \u001b[0;32mraise\u001b[0m \u001b[0mValueError\u001b[0m\u001b[0;34m(\u001b[0m\u001b[0;34m\"wrong shape for coefs\"\u001b[0m\u001b[0;34m)\u001b[0m\u001b[0;34m\u001b[0m\u001b[0;34m\u001b[0m\u001b[0m\n\u001b[0m\u001b[1;32m     58\u001b[0m         \u001b[0;32mif\u001b[0m \u001b[0mself\u001b[0m\u001b[0;34m.\u001b[0m\u001b[0mcoefs\u001b[0m\u001b[0;34m.\u001b[0m\u001b[0mshape\u001b[0m\u001b[0;34m[\u001b[0m\u001b[0;36m0\u001b[0m\u001b[0;34m]\u001b[0m \u001b[0;34m==\u001b[0m \u001b[0;36m0\u001b[0m\u001b[0;34m:\u001b[0m\u001b[0;34m\u001b[0m\u001b[0;34m\u001b[0m\u001b[0m\n\u001b[1;32m     59\u001b[0m             \u001b[0;32mraise\u001b[0m \u001b[0mValueError\u001b[0m\u001b[0;34m(\u001b[0m\u001b[0;34m\"must have at least one row in constraint matrix\"\u001b[0m\u001b[0;34m)\u001b[0m\u001b[0;34m\u001b[0m\u001b[0;34m\u001b[0m\u001b[0m\n",
      "\u001b[0;31mValueError\u001b[0m: wrong shape for coefs"
     ]
    }
   ],
   "source": []
  },
  {
   "cell_type": "code",
   "execution_count": null,
   "metadata": {},
   "outputs": [],
   "source": []
  }
 ],
 "metadata": {
  "kernelspec": {
   "display_name": "Python 3",
   "language": "python",
   "name": "python3"
  },
  "language_info": {
   "codemirror_mode": {
    "name": "ipython",
    "version": 3
   },
   "file_extension": ".py",
   "mimetype": "text/x-python",
   "name": "python",
   "nbconvert_exporter": "python",
   "pygments_lexer": "ipython3",
   "version": "3.7.6"
  }
 },
 "nbformat": 4,
 "nbformat_minor": 4
}
